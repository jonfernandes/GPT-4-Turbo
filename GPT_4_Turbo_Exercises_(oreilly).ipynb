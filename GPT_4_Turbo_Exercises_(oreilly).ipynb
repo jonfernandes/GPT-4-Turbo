{
  "nbformat": 4,
  "nbformat_minor": 0,
  "metadata": {
    "colab": {
      "provenance": [],
      "collapsed_sections": [
        "dIxLiBqxGz52",
        "TW15gTUdBrXX",
        "prwKaxHRupV5",
        "_uxMN3kAPvaW",
        "X__iG50hmEls"
      ]
    },
    "kernelspec": {
      "name": "python3",
      "display_name": "Python 3"
    },
    "language_info": {
      "name": "python"
    }
  },
  "cells": [
    {
      "cell_type": "markdown",
      "source": [
        "# GPT-4-Turbo"
      ],
      "metadata": {
        "id": "W1uemVKOW3Uv"
      }
    },
    {
      "cell_type": "code",
      "source": [
        "OPENAI_API_KEY = \"\"\n",
        "EXCHANGE_API = \"\""
      ],
      "metadata": {
        "id": "MbqZUp39ONco"
      },
      "execution_count": null,
      "outputs": []
    },
    {
      "cell_type": "code",
      "execution_count": null,
      "metadata": {
        "id": "QHm557eVMuNr"
      },
      "outputs": [],
      "source": [
        "!pip install openai==1.6.1"
      ]
    },
    {
      "cell_type": "code",
      "source": [
        "import openai\n",
        "from openai import OpenAI\n",
        "import json"
      ],
      "metadata": {
        "id": "ZGErSAnkld82"
      },
      "execution_count": null,
      "outputs": []
    },
    {
      "cell_type": "code",
      "source": [
        "client = OpenAI(api_key=OPENAI_API_KEY)\n",
        "client"
      ],
      "metadata": {
        "id": "WwyKfxQRl-3S"
      },
      "execution_count": null,
      "outputs": []
    },
    {
      "cell_type": "markdown",
      "source": [
        "## Retrieval"
      ],
      "metadata": {
        "id": "dghnSeUpGgqM"
      }
    },
    {
      "cell_type": "code",
      "source": [
        "!wget https://jonfernandes.github.io/files/digital-piano.pdf"
      ],
      "metadata": {
        "id": "iPd9ri8sGgqN"
      },
      "execution_count": null,
      "outputs": []
    },
    {
      "cell_type": "code",
      "source": [
        "file = client.files.create(\n",
        "  file=open(\"digital-piano.pdf\", \"rb\"),\n",
        "  purpose='assistants'\n",
        ")\n",
        "\n",
        "assistant = client.beta.assistants.create(\n",
        "  instructions=\"You are a helpful assistant. Use only the uploaded document to answer questions.\",\n",
        "  model=\"gpt-4-turbo\",\n",
        "  tools=[{\"type\": \"retrieval\"}],\n",
        "  file_ids=[file.id]\n",
        ")\n",
        "\n",
        "assistant.id"
      ],
      "metadata": {
        "id": "TockYTYdGgqN"
      },
      "execution_count": null,
      "outputs": []
    },
    {
      "cell_type": "code",
      "source": [
        "thread = client.beta.threads.create()\n",
        "\n",
        "client.beta.threads.messages.create(\n",
        "    thread_id=thread.id,\n",
        "    role=\"user\",\n",
        "    content=\"how do i get the digital piano to play a demo piece?\"\n",
        ")\n",
        "\n",
        "thread.id"
      ],
      "metadata": {
        "id": "DQM9fXh4GgqN"
      },
      "execution_count": null,
      "outputs": []
    },
    {
      "cell_type": "code",
      "source": [
        "run = client.beta.threads.runs.create(\n",
        "    thread_id=thread.id,\n",
        "    assistant_id=assistant.id,\n",
        ")\n",
        "\n",
        "run.id"
      ],
      "metadata": {
        "id": "1Tgze8vlGgqN"
      },
      "execution_count": null,
      "outputs": []
    },
    {
      "cell_type": "code",
      "source": [
        "import time\n",
        "\n",
        "def complete_run(thread_id, run_id):\n",
        "    while True:\n",
        "        time.sleep(1)\n",
        "        run = client.beta.threads.runs.retrieve(thread_id=thread_id, run_id=run_id)\n",
        "        print(f\"Current run status: {run.status}\")\n",
        "        if run.status in ['completed', 'failed', 'requires_action']:\n",
        "            return run\n",
        "\n",
        "complete_run(thread.id, run.id)"
      ],
      "metadata": {
        "id": "ijGnya79GgqN"
      },
      "execution_count": null,
      "outputs": []
    },
    {
      "cell_type": "code",
      "source": [
        "def print_messages_from_thread(thread_id):\n",
        "    \"\"\"Print messages for thread with id: thread_id\"\"\"\n",
        "    messages = client.beta.threads.messages.list(thread_id=thread_id)\n",
        "    for message in messages:\n",
        "        print(f\"{message.role}: {message.content[0].text.value}\")\n",
        "\n",
        "print_messages_from_thread(thread.id)"
      ],
      "metadata": {
        "id": "KsAY2c9NGgqO"
      },
      "execution_count": null,
      "outputs": []
    },
    {
      "cell_type": "markdown",
      "source": [
        "## Code interpreter"
      ],
      "metadata": {
        "id": "SOGf-2jk6ahK"
      }
    },
    {
      "cell_type": "markdown",
      "source": [
        "### Challenge: Eric Liddell question"
      ],
      "metadata": {
        "id": "dIxLiBqxGz52"
      }
    },
    {
      "cell_type": "code",
      "source": [
        "from pathlib import Path\n",
        "\n",
        "if not Path(\"paris_olympics_1924.csv\").exists():\n",
        "  !wget https://jonfernandes.github.io/files/paris_olympics_1924.csv"
      ],
      "metadata": {
        "id": "gQu6J-urG3jR"
      },
      "execution_count": null,
      "outputs": []
    },
    {
      "cell_type": "markdown",
      "source": [
        "### Eric Liddell question using the API"
      ],
      "metadata": {
        "id": "TW15gTUdBrXX"
      }
    },
    {
      "cell_type": "code",
      "source": [
        "from pathlib import Path\n",
        "\n",
        "if not Path(\"paris_olympics_1924.csv\").exists():\n",
        "  !wget https://jonfernandes.github.io/files/paris_olympics_1924.csv"
      ],
      "metadata": {
        "id": "LIX4F3yi6bJP"
      },
      "execution_count": null,
      "outputs": []
    },
    {
      "cell_type": "code",
      "source": [
        "file = client.files.create(\n",
        "  file=open(\"paris_olympics_1924.csv\", \"rb\"),\n",
        "  purpose='assistants'\n",
        ")\n",
        "\n",
        "assistant = client.beta.assistants.create(\n",
        "  instructions=\"You are a helpful assistant. Use only the file that has been provided.\",\n",
        "  model=\"gpt-4-turbo\",\n",
        "  tools=[{\"type\": \"code_interpreter\"}],\n",
        "  file_ids=[file.id]\n",
        ")\n",
        "\n",
        "print(f\"Assistant ID: {assistant.id}\")"
      ],
      "metadata": {
        "id": "-QTB949s9QLJ"
      },
      "execution_count": null,
      "outputs": []
    },
    {
      "cell_type": "code",
      "source": [
        "thread = client.beta.threads.create()\n",
        "\n",
        "client.beta.threads.messages.create(\n",
        "    thread_id=thread.id,\n",
        "    role=\"user\",\n",
        "    content=\"What events did eric liddell win a medal in?\"\n",
        ")\n",
        "\n",
        "thread.id"
      ],
      "metadata": {
        "id": "TP-eIZOJ_Ka-"
      },
      "execution_count": null,
      "outputs": []
    },
    {
      "cell_type": "code",
      "source": [
        "run = client.beta.threads.runs.create(\n",
        "    thread_id=thread.id,\n",
        "    assistant_id=assistant.id,\n",
        ")\n",
        "\n",
        "run.id"
      ],
      "metadata": {
        "id": "DnegXATF_qVK"
      },
      "execution_count": null,
      "outputs": []
    },
    {
      "cell_type": "code",
      "source": [
        "import time\n",
        "\n",
        "def complete_run(thread_id, run_id):\n",
        "    \"\"\"Run the assistant on the Thread to get responses\"\"\"\n",
        "    while True:\n",
        "        time.sleep(1)\n",
        "        run = client.beta.threads.runs.retrieve(thread_id=thread_id, run_id=run_id)\n",
        "        print(f\"Current run status: {run.status}\")\n",
        "        if run.status in ['completed', 'failed', 'requires_action']:\n",
        "            return run\n",
        "\n",
        "complete_run(thread.id, run.id)"
      ],
      "metadata": {
        "id": "S7SWASh__teI"
      },
      "execution_count": null,
      "outputs": []
    },
    {
      "cell_type": "code",
      "source": [
        "def print_messages_from_thread(thread_id):\n",
        "    \"\"\"Print messages for thread with thread_id as parameter\"\"\"\n",
        "    messages = client.beta.threads.messages.list(thread_id=thread_id)\n",
        "    for message in messages:\n",
        "        print(f\"{message.role}: {message.content[0].text.value}\")\n",
        "\n",
        "print_messages_from_thread(thread.id)"
      ],
      "metadata": {
        "id": "2KVNvLRvAPgK"
      },
      "execution_count": null,
      "outputs": []
    },
    {
      "cell_type": "markdown",
      "source": [
        "### Challenge - Questions on the Olympics"
      ],
      "metadata": {
        "id": "Y7NNcfO4xlea"
      }
    },
    {
      "cell_type": "markdown",
      "source": [
        "Answer the following questions. Indicate the Pandas/Python/other command where relevant.\n",
        "\n",
        "1.   What is the time range covered in this dataset?\n",
        "2.   The Olympics take place every 4 years. Why are there missing years?\n",
        "3.   What are the types of medals awarded?\n",
        "4.   Across all of the Olympic Games, how many Gold, Silver and Bronze medals have there been?\n",
        "5.   Why are there not an equal number of Gold, Silver and Bronze medals?\n",
        "6.   There are more Gold medals than Silver, and more Silver than Bronze. Why might that be?\n",
        "\n",
        "\n"
      ],
      "metadata": {
        "id": "8zCUnsNAxo-g"
      }
    },
    {
      "cell_type": "markdown",
      "source": [
        "### Challenge"
      ],
      "metadata": {
        "id": "prwKaxHRupV5"
      }
    },
    {
      "cell_type": "markdown",
      "source": [
        "**Using a line graph, plot the number of gold medals won by the USA male and female Olympians throughout the history of the Olympics?\n",
        "Distinguish between the male and female Olympians in the line graph using blue and pink**"
      ],
      "metadata": {
        "id": "r5o55t_3uuwb"
      }
    },
    {
      "cell_type": "code",
      "source": [],
      "metadata": {
        "id": "C_RNt_Ef639H"
      },
      "execution_count": null,
      "outputs": []
    },
    {
      "cell_type": "markdown",
      "source": [
        "**Using a bar chart, plot the 5 Olympians who have won the most gold medals from the dataset (1896 to 2008). When there is a tie, consider the number of silver medals, then bronze medals.**"
      ],
      "metadata": {
        "id": "Tb5t8FCK3hwH"
      }
    },
    {
      "cell_type": "markdown",
      "source": [
        "### Change the colors to Gold, Silver and Bronze"
      ],
      "metadata": {
        "id": "w-w5R_xF7431"
      }
    },
    {
      "cell_type": "code",
      "source": [],
      "metadata": {
        "id": "JIBVwifx6tkQ"
      },
      "execution_count": null,
      "outputs": []
    },
    {
      "cell_type": "markdown",
      "source": [
        "### Final Challenge"
      ],
      "metadata": {
        "id": "Ffq41qyWCfrk"
      }
    },
    {
      "cell_type": "markdown",
      "source": [
        "For each Olympic year present in the dataset, show the US Olympian (and their sport) who has won the highest number of medals in that particular year.\n",
        "\n",
        "- In the case of a tie, Gold > Silver > Bronze\n",
        "- Include only one Olympian for each Olympic year i.e. If there are 2 Olympians in one year who have won exactly the same number and type of medals, then show only the first one based on sorting the names in reverse alphabetical order by surname.\n",
        "\n",
        "- You should show the the following columns for each Olympic year:\n",
        "  - Athlete\n",
        "  - Sport\n",
        "  - Total\n"
      ],
      "metadata": {
        "id": "zMMgGjqYCsDE"
      }
    },
    {
      "cell_type": "markdown",
      "source": [
        "## Function calling"
      ],
      "metadata": {
        "id": "_uxMN3kAPvaW"
      }
    },
    {
      "cell_type": "code",
      "source": [
        "prompt = \"Convert 50 USD to british pounds\"\n",
        "\n",
        "client.chat.completions.create(\n",
        "    model=\"gpt-4-turbo\",\n",
        "    temperature=0.0,\n",
        "    messages=[{\"role\": \"user\", \"content\": prompt}]\n",
        ")"
      ],
      "metadata": {
        "id": "NwR9QhcXQGTV"
      },
      "execution_count": null,
      "outputs": []
    },
    {
      "cell_type": "code",
      "source": [
        "def get_details():\n",
        "    \"\"\"Do nothing\"\"\"\n",
        "    pass\n",
        "\n",
        "tools = [\n",
        "    {\n",
        "        \"type\": \"function\",\n",
        "        \"function\": {\n",
        "            \"name\" : \"get_details\",\n",
        "            \"description\" : \"Convert a given amount of money from one currency to another. Each currency will have a three letter code\",\n",
        "            \"parameters\": {\n",
        "                \"type\": \"object\",\n",
        "                \"properties\": {\n",
        "                  \"base\": {\n",
        "                      \"type\": \"string\",\n",
        "                      \"description\": \"The base or original currency\"\n",
        "                  },\n",
        "                \"target\": {\n",
        "                    \"type\": \"string\",\n",
        "                    \"description\": \"The target or converted currency\"\n",
        "                },\n",
        "                \"amount\": {\n",
        "                    \"type\": \"string\",\n",
        "                    \"description\": \"The amount of money when converting from one currency to another\"\n",
        "                }\n",
        "                }\n",
        "            },\n",
        "            \"required\": [\"base\", \"target\", \"amount\"]\n",
        "        }\n",
        "    }\n",
        "]\n",
        "\n",
        "client.chat.completions.create(\n",
        "      model=\"gpt-4-turbo\",\n",
        "      temperature=0.0,\n",
        "      messages=[{\"role\": \"user\", \"content\": \"Convert 50 USD to british pounds\"}],\n",
        "      tools=tools,\n",
        "      tool_choice=\"auto\"\n",
        ")"
      ],
      "metadata": {
        "id": "_Z_ES0rZlpFG"
      },
      "execution_count": null,
      "outputs": []
    },
    {
      "cell_type": "code",
      "source": [
        "def get_chat_completion(prompt, model=\"gpt-4-turbo\", tools=None, tool_choice=\"auto\"):\n",
        "    \"\"\"Response from model for a given prompt\"\"\"\n",
        "    try:\n",
        "        completion = client.chat.completions.create(\n",
        "            model=model,\n",
        "            temperature=0.0,\n",
        "            messages=[{\"role\": \"user\", \"content\": prompt}],\n",
        "            tools=tools,\n",
        "            tool_choice=tool_choice\n",
        "        )\n",
        "    except Exception as e:\n",
        "        print(e, model, prompt)\n",
        "    else:\n",
        "        return completion\n",
        "\n",
        "response = get_chat_completion(\"Convert 50 USD to british pounds\", tools=tools)\n",
        "response"
      ],
      "metadata": {
        "id": "afu57wqSHiKH"
      },
      "execution_count": null,
      "outputs": []
    },
    {
      "cell_type": "code",
      "source": [
        "response.choices"
      ],
      "metadata": {
        "id": "AMegOE7P16jI"
      },
      "execution_count": null,
      "outputs": []
    },
    {
      "cell_type": "code",
      "source": [
        "response_arguments = json.loads(response.choices[0].message.tool_calls[0].function.arguments)\n",
        "response_arguments"
      ],
      "metadata": {
        "id": "pU1pATf6NgFp"
      },
      "execution_count": null,
      "outputs": []
    },
    {
      "cell_type": "code",
      "source": [
        "response = get_chat_completion(\"What's 500 british pounds in Indian currency\", tools=tools)\n",
        "\n",
        "response_arguments = json.loads(response.choices[0].message.tool_calls[0].function.arguments)\n",
        "response_arguments"
      ],
      "metadata": {
        "id": "vvi0SOfgu2uy"
      },
      "execution_count": null,
      "outputs": []
    },
    {
      "cell_type": "code",
      "source": [
        "import requests\n",
        "\n",
        "BASE, TARGET, AMOUNT = response_arguments[\"base\"], response_arguments[\"target\"], response_arguments[\"amount\"]\n",
        "\n",
        "url = f\"https://v6.exchangerate-api.com/v6/{EXCHANGE_API}/pair/{BASE}/{TARGET}/{AMOUNT}\"\n",
        "exchange_response = json.loads(requests.get(url).text)\n",
        "exchange_response"
      ],
      "metadata": {
        "id": "aTKBhjvnybd3"
      },
      "execution_count": null,
      "outputs": []
    },
    {
      "cell_type": "code",
      "source": [
        "print(f\"{BASE} {AMOUNT} is {TARGET} {exchange_response['conversion_result']}\")"
      ],
      "metadata": {
        "id": "plHcf9ijPEwm"
      },
      "execution_count": null,
      "outputs": []
    },
    {
      "cell_type": "code",
      "source": [
        "response = get_chat_completion(\"I woke up a little earlier today\", tools=tools)\n",
        "response"
      ],
      "metadata": {
        "id": "UiF7T3ublr0i"
      },
      "execution_count": null,
      "outputs": []
    },
    {
      "cell_type": "code",
      "source": [
        "response.choices[0].message.content"
      ],
      "metadata": {
        "id": "9NWTS1pPoVZU"
      },
      "execution_count": null,
      "outputs": []
    },
    {
      "cell_type": "code",
      "source": [
        "import requests\n",
        "import json\n",
        "\n",
        "def get_chat_completion(prompt, model=\"gpt-4-turbo\", tools=None, tool_choice=\"auto\"):\n",
        "    \"\"\"Response from model for a given prompt\"\"\"\n",
        "    try:\n",
        "        completion = client.chat.completions.create(\n",
        "            model=model,\n",
        "            temperature=0.0,\n",
        "            messages=[{\"role\": \"user\", \"content\": prompt}],\n",
        "            tools=tools,\n",
        "            tool_choice=tool_choice\n",
        "        )\n",
        "    except Exception as e:\n",
        "        print(e, model, prompt)\n",
        "    else:\n",
        "        return completion\n",
        "\n",
        "def get_details():\n",
        "    \"\"\"Do nothing\"\"\"\n",
        "    pass\n",
        "\n",
        "tools = [\n",
        "    {\n",
        "        \"type\": \"function\",\n",
        "        \"function\": {\n",
        "            \"name\" : \"get_details\",\n",
        "            \"description\" : \"Convert a given amount of money from one currency to another. Each currency will have a three letter code\",\n",
        "            \"parameters\": {\n",
        "                \"type\": \"object\",\n",
        "                \"properties\": {\n",
        "                  \"base\": {\n",
        "                      \"type\": \"string\",\n",
        "                      \"description\": \"The base or original currency\"\n",
        "                  },\n",
        "                \"target\": {\n",
        "                    \"type\": \"string\",\n",
        "                    \"description\": \"The target or converted currency\"\n",
        "                },\n",
        "                \"amount\": {\n",
        "                    \"type\": \"string\",\n",
        "                    \"description\": \"The amount of money when converting from one currency to another\"\n",
        "                }\n",
        "                }\n",
        "            },\n",
        "            \"required\": [\"base\", \"target\", \"amount\"],\n",
        "        }\n",
        "    }\n",
        "]\n",
        "\n",
        "\n",
        "def next_steps(prompt):\n",
        "    \"\"\"Determine what needs to be done based on response from the Large Language Model\"\"\"\n",
        "    response = get_chat_completion(prompt, tools=tools)\n",
        "\n",
        "    if response.choices[0].finish_reason == \"stop\":\n",
        "        return f\"\"\"Not a currency related question (Did not use tools): {response.choices[0].message.content}\"\"\"\n",
        "    elif response.choices[0].finish_reason == \"tool_calls\":\n",
        "        response_arguments = json.loads(response.choices[0].message.tool_calls[0].function.arguments)\n",
        "        BASE, TARGET, AMOUNT = response_arguments[\"base\"], response_arguments[\"target\"], response_arguments[\"amount\"]\n",
        "        url = f\"https://v6.exchangerate-api.com/v6/{EXCHANGE_API}/pair/{BASE}/{TARGET}/{AMOUNT}\"\n",
        "        exchange_response = json.loads(requests.get(url).text)\n",
        "        return f\"{BASE} {AMOUNT} is {TARGET} {exchange_response['conversion_result']}\"\n",
        "    else:\n",
        "        return NotImplemented\n",
        "\n",
        "print(next_steps(\"What's 500 british pounds in whatever they use in Tokyo\"))"
      ],
      "metadata": {
        "id": "7Ts0_hFnDRIi"
      },
      "execution_count": null,
      "outputs": []
    },
    {
      "cell_type": "code",
      "source": [
        "print(next_steps(\"It's sunny today\"))"
      ],
      "metadata": {
        "id": "JcUQl8p5QNba"
      },
      "execution_count": null,
      "outputs": []
    },
    {
      "cell_type": "markdown",
      "source": [
        "## GPT-4-turbo Vision"
      ],
      "metadata": {
        "id": "X__iG50hmEls"
      }
    },
    {
      "cell_type": "code",
      "source": [
        "!wget https://github.com/jonfernandes/images/blob/main/JF-bw.png"
      ],
      "metadata": {
        "id": "qPQ2TsJDOCu7"
      },
      "execution_count": null,
      "outputs": []
    },
    {
      "cell_type": "code",
      "source": [
        "!ls -la"
      ],
      "metadata": {
        "id": "6yYuDeShPQoe"
      },
      "execution_count": null,
      "outputs": []
    },
    {
      "cell_type": "code",
      "source": [
        "response = client.chat.completions.create(\n",
        "  model=\"gpt-4-vision-preview\",\n",
        "  messages=[\n",
        "    {\n",
        "      \"role\": \"user\",\n",
        "      \"content\": [\n",
        "        {\"type\": \"text\", \"text\": \"What’s in this image?\"},\n",
        "        {\n",
        "          \"type\": \"image_url\",\n",
        "          \"image_url\": {\n",
        "            \"url\": \"https://jonfernandes.github.io/images/JF-bw.png\",\n",
        "          },\n",
        "        },\n",
        "      ],\n",
        "    }\n",
        "  ],\n",
        "  max_tokens=300,\n",
        ")\n",
        "\n",
        "response"
      ],
      "metadata": {
        "id": "nb5I5gEVM4Tn"
      },
      "execution_count": null,
      "outputs": []
    },
    {
      "cell_type": "code",
      "source": [
        "response.choices[0].message.content"
      ],
      "metadata": {
        "id": "2omaz0AkN8ts"
      },
      "execution_count": null,
      "outputs": []
    },
    {
      "cell_type": "markdown",
      "source": [
        "**Multiple images**"
      ],
      "metadata": {
        "id": "EJszjiE-fQCl"
      }
    },
    {
      "cell_type": "code",
      "source": [
        "response = client.chat.completions.create(\n",
        "  model=\"gpt-4-vision-preview\",\n",
        "  messages=[\n",
        "    {\n",
        "      \"role\": \"user\",\n",
        "      \"content\": [\n",
        "        {\n",
        "          \"type\": \"text\",\n",
        "          \"text\": \"What are in these images? Is there any difference between them?\",\n",
        "        },\n",
        "        {\n",
        "          \"type\": \"image_url\",\n",
        "          \"image_url\": {\n",
        "            \"url\": \"https://jonfernandes.github.io/images/JF-bw.png\",\n",
        "          },\n",
        "        },\n",
        "        {\n",
        "          \"type\": \"image_url\",\n",
        "          \"image_url\": {\n",
        "            \"url\": \"https://jonfernandes.github.io/images/JF-color.jpg\",\n",
        "          },\n",
        "        },\n",
        "      ],\n",
        "    }\n",
        "  ],\n",
        "  max_tokens=300,\n",
        ")\n",
        "\n",
        "print(response.choices[0].message.content)"
      ],
      "metadata": {
        "id": "RJ5vyTJoY6aj"
      },
      "execution_count": null,
      "outputs": []
    },
    {
      "cell_type": "markdown",
      "source": [],
      "metadata": {
        "id": "ST0m-tjh3qHu"
      }
    },
    {
      "cell_type": "markdown",
      "metadata": {
        "id": "fd7e6164"
      },
      "source": [
        "# Using GPT-4V on the Amazon furniture dataset\n",
        "\n",
        "Use GPT-4V to tag & caption images.\n",
        "\n",
        "Provide input images along with additional context on what they represent, and prompt the model to output tags or image descriptions. The image descriptions can then be further refined with a language model to generate captions.\n",
        "\n",
        "Using Amazon furniture items, tag them with relevant keywords and generate short, descriptive captions."
      ]
    },
    {
      "cell_type": "markdown",
      "metadata": {
        "id": "a00b5267"
      },
      "source": [
        "## Setup"
      ]
    },
    {
      "cell_type": "code",
      "execution_count": null,
      "metadata": {
        "id": "176a7836"
      },
      "outputs": [],
      "source": [
        "!pip install openai==1.23.6\n",
        "!pip install scikit-learn"
      ]
    },
    {
      "cell_type": "code",
      "execution_count": null,
      "metadata": {
        "id": "5b4c63de"
      },
      "outputs": [],
      "source": [
        "from IPython.display import Image, display\n",
        "import pandas as pd\n",
        "from sklearn.metrics.pairwise import cosine_similarity\n",
        "import numpy as np\n",
        "from openai import OpenAI\n",
        "\n",
        "client = OpenAI(api_key=\"\")"
      ]
    },
    {
      "cell_type": "code",
      "source": [
        "!wget https://github.com/jonfernandes/GPT-4-Turbo/raw/main/amazon_furniture_dataset.csv"
      ],
      "metadata": {
        "id": "Hwc03wo7yPEZ"
      },
      "execution_count": null,
      "outputs": []
    },
    {
      "cell_type": "code",
      "execution_count": null,
      "metadata": {
        "id": "1b0fa62d"
      },
      "outputs": [],
      "source": [
        "# Loading dataset\n",
        "dataset_path =  \"amazon_furniture_dataset.csv\"\n",
        "df = pd.read_csv(dataset_path)\n",
        "df.head()"
      ]
    },
    {
      "cell_type": "markdown",
      "metadata": {
        "id": "f4d862fa"
      },
      "source": [
        "## Tag images\n",
        "\n",
        "- GPT-4V to generate relevant tags for products.\n",
        "- Use embeddings to avoid having multiple keywords that are too similar.\n",
        "- Use a combination of an image and the product title to avoid extracting keywords for other items"
      ]
    },
    {
      "cell_type": "markdown",
      "metadata": {
        "id": "20d7a5c8"
      },
      "source": [
        "### Extract keywords"
      ]
    },
    {
      "cell_type": "code",
      "execution_count": null,
      "metadata": {
        "id": "752118c4"
      },
      "outputs": [],
      "source": [
        "system_prompt = '''\n",
        "    You are an agent specialized in tagging images of furniture items, decorative items, or furnishings with relevant keywords that could be used to search for these items on a marketplace.\n",
        "\n",
        "    You will be provided with an image and the title of the item that is depicted in the image, and your goal is to extract keywords for only the item specified.\n",
        "\n",
        "    Keywords should be concise and in lower case.\n",
        "\n",
        "    Keywords can describe things like:\n",
        "    - Item type e.g. 'sofa bed', 'chair', 'desk', 'plant'\n",
        "    - Item material e.g. 'wood', 'metal', 'fabric'\n",
        "    - Item style e.g. 'scandinavian', 'vintage', 'industrial'\n",
        "    - Item color e.g. 'red', 'blue', 'white'\n",
        "\n",
        "    Only deduce material, style or color keywords when it is obvious that they make the item depicted in the image stand out.\n",
        "\n",
        "    Return keywords in the format of an array of strings, like this:\n",
        "    ['desk', 'industrial', 'metal']\n",
        "\n",
        "'''\n",
        "\n",
        "def analyze_image(img_url, title):\n",
        "    response = client.chat.completions.create(\n",
        "    model=\"gpt-4-vision-preview\",\n",
        "    messages=[\n",
        "        {\n",
        "            \"role\": \"system\",\n",
        "            \"content\": system_prompt\n",
        "        },\n",
        "        {\n",
        "            \"role\": \"user\",\n",
        "            \"content\": [\n",
        "                {\n",
        "                    \"type\": \"image_url\",\n",
        "                    \"image_url\": img_url,\n",
        "                },\n",
        "            ],\n",
        "        },\n",
        "        {\n",
        "            \"role\": \"user\",\n",
        "            \"content\": title\n",
        "        }\n",
        "    ],\n",
        "        max_tokens=300,\n",
        "        top_p=0.1\n",
        "    )\n",
        "\n",
        "    return response.choices[0].message.content"
      ]
    },
    {
      "cell_type": "markdown",
      "metadata": {
        "id": "cf75e59c"
      },
      "source": [
        "#### Testing with a few examples"
      ]
    },
    {
      "cell_type": "code",
      "execution_count": null,
      "metadata": {
        "id": "eb6a8159"
      },
      "outputs": [],
      "source": [
        "examples = df.iloc[:5]\n",
        "examples"
      ]
    },
    {
      "cell_type": "code",
      "execution_count": null,
      "metadata": {
        "id": "b729129b"
      },
      "outputs": [],
      "source": [
        "for index, ex in examples.iterrows():\n",
        "    url = ex['primary_image']\n",
        "    img = Image(url=url)\n",
        "    display(img)\n",
        "    result = analyze_image(url, ex['title'])\n",
        "    print(result)\n",
        "    print(\"\\n\\n\")"
      ]
    },
    {
      "cell_type": "markdown",
      "metadata": {
        "id": "00b727b5"
      },
      "source": [
        "### Looking up existing keywords\n",
        "\n",
        "Using embeddings to avoid duplicates (synonyms) and/or match pre-defined keywords"
      ]
    },
    {
      "cell_type": "code",
      "execution_count": null,
      "metadata": {
        "id": "f73d1b59"
      },
      "outputs": [],
      "source": [
        "def get_embedding(value, model=\"text-embedding-3-large\"):\n",
        "    embeddings = client.embeddings.create(\n",
        "      model=model,\n",
        "      input=value,\n",
        "      encoding_format=\"float\"\n",
        "    )\n",
        "    return embeddings.data[0].embedding"
      ]
    },
    {
      "cell_type": "markdown",
      "metadata": {
        "id": "651c99ce"
      },
      "source": [
        "#### Testing with example keywords"
      ]
    },
    {
      "cell_type": "code",
      "execution_count": null,
      "metadata": {
        "id": "f0262f03"
      },
      "outputs": [],
      "source": [
        "# Existing keywords\n",
        "keywords_list = ['industrial', 'metal', 'wood', 'vintage', 'bed']"
      ]
    },
    {
      "cell_type": "code",
      "execution_count": null,
      "metadata": {
        "id": "afc489d4"
      },
      "outputs": [],
      "source": [
        "df_keywords = pd.DataFrame(keywords_list, columns=['keyword'])\n",
        "df_keywords['embedding'] = df_keywords['keyword'].apply(lambda x: get_embedding(x))\n",
        "df_keywords"
      ]
    },
    {
      "cell_type": "code",
      "execution_count": null,
      "metadata": {
        "id": "f549e537"
      },
      "outputs": [],
      "source": [
        "def compare_keyword(keyword):\n",
        "    embedded_value = get_embedding(keyword)\n",
        "    df_keywords['similarity'] = df_keywords['embedding'].apply(lambda x: cosine_similarity(np.array(x).reshape(1,-1), np.array(embedded_value).reshape(1, -1)))\n",
        "    most_similar = df_keywords.sort_values('similarity', ascending=False).iloc[0]\n",
        "    return most_similar\n",
        "\n",
        "def replace_keyword(keyword, threshold = 0.6):\n",
        "    most_similar = compare_keyword(keyword)\n",
        "    if most_similar['similarity'] > threshold:\n",
        "        print(f\"Replacing '{keyword}' with existing keyword: '{most_similar['keyword']}'\")\n",
        "        return most_similar['keyword']\n",
        "    return keyword"
      ]
    },
    {
      "cell_type": "code",
      "execution_count": null,
      "metadata": {
        "id": "08c0ec9c"
      },
      "outputs": [],
      "source": [
        "example_keywords = ['bed frame', 'wooden', 'vintage', 'old school', 'desk', 'table', 'old', 'metal', 'metallic', 'woody']\n",
        "final_keywords = []\n",
        "\n",
        "for k in example_keywords:\n",
        "    final_keywords.append(replace_keyword(k))\n",
        "\n",
        "final_keywords = set(final_keywords)\n",
        "print(f\"Final keywords: {final_keywords}\")"
      ]
    },
    {
      "cell_type": "markdown",
      "metadata": {
        "id": "11b0afa1"
      },
      "source": [
        "## Generate captions\n",
        "\n",
        "Use GPT-4V to generate an image description and then use a few-shot examples approach with GPT-4-turbo to generate captions from the images."
      ]
    },
    {
      "cell_type": "code",
      "execution_count": null,
      "metadata": {
        "id": "c67a434b"
      },
      "outputs": [],
      "source": [
        "selected_columns = ['title', 'primary_image', 'style', 'material', 'color', 'url']\n",
        "df = df[selected_columns].copy()\n",
        "df.head()"
      ]
    },
    {
      "cell_type": "markdown",
      "metadata": {
        "id": "9bb5c4fa"
      },
      "source": [
        "### Describing images with GPT-4V"
      ]
    },
    {
      "cell_type": "code",
      "execution_count": null,
      "metadata": {
        "id": "561912fc"
      },
      "outputs": [],
      "source": [
        "describe_system_prompt = '''\n",
        "    You are a system generating descriptions for furniture items, decorative items, or furnishings on an e-commerce website.\n",
        "    Provided with an image and a title, you will describe the main item that you see in the image, giving details but staying concise.\n",
        "    You can describe unambiguously what the item is and its material, color, and style if clearly identifiable.\n",
        "    If there are multiple items depicted, refer to the title to understand which item you should describe.\n",
        "    '''\n",
        "\n",
        "def describe_image(img_url, title):\n",
        "    response = client.chat.completions.create(\n",
        "    model=\"gpt-4-vision-preview\",\n",
        "    temperature=0.2,\n",
        "    messages=[\n",
        "        {\n",
        "            \"role\": \"system\",\n",
        "            \"content\": describe_system_prompt\n",
        "        },\n",
        "        {\n",
        "            \"role\": \"user\",\n",
        "            \"content\": [\n",
        "                {\n",
        "                    \"type\": \"image_url\",\n",
        "                    \"image_url\": img_url,\n",
        "                },\n",
        "            ],\n",
        "        },\n",
        "        {\n",
        "            \"role\": \"user\",\n",
        "            \"content\": title\n",
        "        }\n",
        "    ],\n",
        "    max_tokens=300,\n",
        "    )\n",
        "\n",
        "    return response.choices[0].message.content"
      ]
    },
    {
      "cell_type": "markdown",
      "metadata": {
        "id": "f46f6486"
      },
      "source": [
        "#### Testing on a few examples"
      ]
    },
    {
      "cell_type": "code",
      "execution_count": null,
      "metadata": {
        "id": "a0351489"
      },
      "outputs": [],
      "source": [
        "for index, row in examples.iterrows():\n",
        "    print(f\"{row['title'][:50]}{'...' if len(row['title']) > 50 else ''} - {row['url']} :\\n\")\n",
        "    img_description = describe_image(row['primary_image'], row['title'])\n",
        "    print(f\"{img_description}\\n--------------------------\\n\")"
      ]
    },
    {
      "cell_type": "markdown",
      "metadata": {
        "id": "d63f628f"
      },
      "source": [
        "### Turning descriptions into captions\n",
        "Using a few-shot examples approach to turn a long description into a short image caption"
      ]
    },
    {
      "cell_type": "code",
      "execution_count": null,
      "metadata": {
        "id": "66b5bc53"
      },
      "outputs": [],
      "source": [
        "caption_system_prompt = '''\n",
        "Your goal is to generate short, descriptive captions for images of furniture items, decorative items, or furnishings based on an image description.\n",
        "You will be provided with a description of an item image and you will output a caption that captures the most important information about the item.\n",
        "Your generated caption should be short (1 sentence), and include the most relevant information about the item.\n",
        "The most important information could be: the type of the item, the style (if mentioned), the material if especially relevant and any distinctive features.\n",
        "'''\n",
        "\n",
        "few_shot_examples = [\n",
        "    {\n",
        "        \"description\": \"This is a multi-layer metal shoe rack featuring a free-standing design. It has a clean, white finish that gives it a modern and versatile look, suitable for various home decors. The rack includes several horizontal shelves dedicated to organizing shoes, providing ample space for multiple pairs. Above the shoe storage area, there are 8 double hooks arranged in two rows, offering additional functionality for hanging items such as hats, scarves, or bags. The overall structure is sleek and space-saving, making it an ideal choice for placement in living rooms, bathrooms, hallways, or entryways where efficient use of space is essential.\",\n",
        "        \"caption\": \"White metal free-standing shoe rack\"\n",
        "    },\n",
        "    {\n",
        "        \"description\": \"The image shows a set of two dining chairs in black. These chairs are upholstered in a leather-like material, giving them a sleek and sophisticated appearance. The design features straight lines with a slight curve at the top of the high backrest, which adds a touch of elegance. The chairs have a simple, vertical stitching detail on the backrest, providing a subtle decorative element. The legs are also black, creating a uniform look that would complement a contemporary dining room setting. The chairs appear to be designed for comfort and style, suitable for both casual and formal dining environments.\",\n",
        "        \"caption\": \"Set of 2 modern black leather dining chairs\"\n",
        "    },\n",
        "    {\n",
        "        \"description\": \"This is a square plant repotting mat designed for indoor gardening tasks such as transplanting and changing soil for plants. It measures 26.8 inches by 26.8 inches and is made from a waterproof material, which appears to be a durable, easy-to-clean fabric in a vibrant green color. The edges of the mat are raised with integrated corner loops, likely to keep soil and water contained during gardening activities. The mat is foldable, enhancing its portability, and can be used as a protective surface for various gardening projects, including working with succulents. It's a practical accessory for garden enthusiasts and makes for a thoughtful gift for those who enjoy indoor plant care.\",\n",
        "        \"caption\": \"Waterproof square plant repotting mat\"\n",
        "    }\n",
        "]\n",
        "\n",
        "formatted_examples = [[{\n",
        "    \"role\": \"user\",\n",
        "    \"content\": ex['description']\n",
        "},\n",
        "{\n",
        "    \"role\": \"assistant\",\n",
        "    \"content\": ex['caption']\n",
        "}]\n",
        "    for ex in few_shot_examples\n",
        "]\n",
        "\n",
        "formatted_examples = [i for ex in formatted_examples for i in ex]"
      ]
    },
    {
      "cell_type": "code",
      "execution_count": null,
      "metadata": {
        "id": "b5ac5262"
      },
      "outputs": [],
      "source": [
        "def caption_image(description, model=\"gpt-4-turbo-preview\"):\n",
        "    messages = formatted_examples\n",
        "    messages.insert(0,\n",
        "        {\n",
        "            \"role\": \"system\",\n",
        "            \"content\": caption_system_prompt\n",
        "        })\n",
        "    messages.append(\n",
        "        {\n",
        "            \"role\": \"user\",\n",
        "            \"content\": description\n",
        "        })\n",
        "    response = client.chat.completions.create(\n",
        "    model=model,\n",
        "    temperature=0.2,\n",
        "    messages=messages\n",
        "    )\n",
        "\n",
        "    return response.choices[0].message.content"
      ]
    },
    {
      "cell_type": "markdown",
      "metadata": {
        "id": "f5661152"
      },
      "source": [
        "#### Testing on a few examples"
      ]
    },
    {
      "cell_type": "code",
      "execution_count": null,
      "metadata": {
        "id": "2d8f3427"
      },
      "outputs": [],
      "source": [
        "examples = df.iloc[5:8]"
      ]
    },
    {
      "cell_type": "code",
      "execution_count": null,
      "metadata": {
        "id": "b426d22d"
      },
      "outputs": [],
      "source": [
        "for index, row in examples.iterrows():\n",
        "    print(f\"{row['title'][:50]}{'...' if len(row['title']) > 50 else ''} - {row['url']} :\\n\")\n",
        "    img_description = describe_image(row['primary_image'], row['title'])\n",
        "    print(f\"Image description: {img_description}\\n--------------------------\\n\")\n",
        "    img_caption = caption_image(img_description)\n",
        "    print(f\"Image caption: {img_caption}\\n--------------------------\\n\")"
      ]
    }
  ]
}